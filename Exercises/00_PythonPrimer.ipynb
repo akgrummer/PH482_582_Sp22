{
  "cells": [
    {
      "cell_type": "markdown",
      "metadata": {
        "id": "VkmpJVud5w7x"
      },
      "source": [
        "# Exercise 0\n",
        "Due date: 2022-01-25\n",
        "\n",
        "This is the zeroth exercise just to review python and show you how to submit exercises.\n",
        "\n",
        "File name convention: For group 42 and memebers Richard Stallman and Linus Torvalds it would be \n",
        "\"00_Exercise0_Goup42_Stallman_Torvalds.pdf\".\n",
        "Just give yourself a funny group name for this exercise!\n",
        "\n",
        "Submission via blackboard everyone individually (for this exercise)."
      ]
    },
    {
      "cell_type": "code",
      "execution_count": 1,
      "metadata": {
        "id": "Nbw5dbOU5evO"
      },
      "outputs": [],
      "source": [
        "group_name = \"GroupAwesome\"\n",
        "group_members = [\"Aidan\"]"
      ]
    },
    {
      "cell_type": "markdown",
      "metadata": {},
      "source": [
        "<table align=\"left\">\n",
        "  <td>\n",
        "    <a target=\"_blank\" href=\"https://colab.research.google.com/github/UAPH4582/PH482_582_Sp22/blob/main/Exercises/00_PythonPrimer.ipynb\"><img src=\"https://www.tensorflow.org/images/colab_logo_32px.png\" />Run in Google Colab</a>\n",
        "  </td>\n",
        "</table>"
      ]
    },
    {
      "cell_type": "markdown",
      "metadata": {
        "id": "deYp705h6i67"
      },
      "source": [
        "## Functions"
      ]
    },
    {
      "cell_type": "markdown",
      "metadata": {
        "id": "B_XV58dJ6k9I"
      },
      "source": [
        "### Task 1\n",
        "Write a function `subtract` that takes two numbers `a` and `b` and returns `a-b`."
      ]
    },
    {
      "cell_type": "code",
      "execution_count": null,
      "metadata": {
        "id": "Amed__UC5_YG"
      },
      "outputs": [],
      "source": [
        "# your code goes below\n",
        "# ↓↓↓↓↓↓↓↓↓↓↓↓↓↓↓↓↓↓↓↓↓↓↓↓↓↓↓↓↓↓↓"
      ]
    },
    {
      "cell_type": "code",
      "execution_count": 2,
      "metadata": {
        "id": "CSleUNYp6z1b"
      },
      "outputs": [],
      "source": [
        "def subtract(a,b):\n",
        "   return a - b"
      ]
    },
    {
      "cell_type": "code",
      "execution_count": null,
      "metadata": {
        "id": "06P-aOvX62ic"
      },
      "outputs": [],
      "source": [
        "# ↑↑↑↑↑↑↑↑↑↑↑↑↑↑↑↑↑↑↑↑↑↑↑↑↑↑↑↑↑↑↑\n",
        "# your code goes above this"
      ]
    },
    {
      "cell_type": "code",
      "execution_count": 3,
      "metadata": {
        "id": "U2hMGCaK63Ky"
      },
      "outputs": [
        {
          "data": {
            "text/plain": [
              "True"
            ]
          },
          "execution_count": 3,
          "metadata": {},
          "output_type": "execute_result"
        }
      ],
      "source": [
        "# testing if the function is working\n",
        "subtract(3, 5) == -2"
      ]
    },
    {
      "cell_type": "markdown",
      "metadata": {
        "id": "9qVx_wmd7G2F"
      },
      "source": [
        "### Task 2\n",
        "a) Write a function `fac_it` that calculates the factorial in an iterative way.   \n",
        "b) (optional) Write a function `fac_rec` that computes the factorial in a recursive way.\n",
        "\n",
        "**Hints**    \n",
        "a) Set a variable `fac = 1`, loop over `i in range(2,n+1)` and in the loop muliply `fac` by `i`.   \n",
        "b) The trick is to set the cases for `n=0` and `n=1` and then call something like `n*fac_rec(n-1)`.   "
      ]
    },
    {
      "cell_type": "code",
      "execution_count": null,
      "metadata": {
        "id": "CBqfGSHV9YuB"
      },
      "outputs": [],
      "source": [
        "# your code goes below\n",
        "# ↓↓↓↓↓↓↓↓↓↓↓↓↓↓↓↓↓↓↓↓↓↓↓↓↓↓↓↓↓↓↓"
      ]
    },
    {
      "cell_type": "code",
      "execution_count": 1,
      "metadata": {
        "id": "ozMIzXif7tPZ"
      },
      "outputs": [],
      "source": [
        "def fac_it(n):\n",
        "  fac = 1\n",
        "  for i in range (2,n+1):\n",
        "    fac = i*fac\n",
        "  return fac"
      ]
    },
    {
      "cell_type": "code",
      "execution_count": 39,
      "metadata": {
        "id": "xDHlomVB7Rwr"
      },
      "outputs": [],
      "source": [
        "def fac_rec(n):\n",
        "  if n<2:\n",
        "    return 1\n",
        "  return n*fac_rec(n-1)"
      ]
    },
    {
      "cell_type": "code",
      "execution_count": 41,
      "metadata": {},
      "outputs": [],
      "source": [
        "from functools import lru_cache\n",
        "\n",
        "@lru_cache(maxsize=None)\n",
        "def fac_recMemo(n):\n",
        "  if n<2:\n",
        "    return 1\n",
        "  return n*fac_rec(n-1)"
      ]
    },
    {
      "cell_type": "code",
      "execution_count": 57,
      "metadata": {},
      "outputs": [],
      "source": [
        "@lru_cache(maxsize=None)\n",
        "def fib1(n: int) -> int:  # same definition as fib2()\n",
        "    if n < 2:  # base case\n",
        "        return n\n",
        "    return fib1(n - 2) + fib1(n - 1)  # recursive case"
      ]
    },
    {
      "cell_type": "code",
      "execution_count": 58,
      "metadata": {},
      "outputs": [],
      "source": [
        "def fib2(n: int) -> int:  # same definition as fib2()\n",
        "    if n < 2:  # base case\n",
        "        return n\n",
        "    return fib2(n - 2) + fib2(n - 1)  # recursive case"
      ]
    },
    {
      "cell_type": "code",
      "execution_count": 84,
      "metadata": {},
      "outputs": [],
      "source": [
        "def fib3(n: int) -> int:\n",
        "    if n == 0: return n  # special case\n",
        "    last: int = 0  # initially set to fib(0)\n",
        "    next: int = 1  # initially set to fib(1)\n",
        "    for _ in range(1, n):\n",
        "        last, next = next, last + next\n",
        "    return next"
      ]
    },
    {
      "cell_type": "code",
      "execution_count": 42,
      "metadata": {
        "colab": {
          "base_uri": "https://localhost:8080/"
        },
        "id": "lICjugqi768J",
        "outputId": "313e4066-c73a-4b11-cfde-daced443ddd5"
      },
      "outputs": [
        {
          "name": "stdout",
          "output_type": "stream",
          "text": [
            "40320\n",
            "CPU times: user 309 µs, sys: 169 µs, total: 478 µs\n",
            "Wall time: 462 µs\n"
          ]
        }
      ],
      "source": [
        "%%time\n",
        "print(fac_rec(8))"
      ]
    },
    {
      "cell_type": "code",
      "execution_count": 43,
      "metadata": {},
      "outputs": [
        {
          "name": "stdout",
          "output_type": "stream",
          "text": [
            "40320\n",
            "CPU times: user 475 µs, sys: 400 µs, total: 875 µs\n",
            "Wall time: 520 µs\n"
          ]
        }
      ],
      "source": [
        "%%time\n",
        "print(fac_recMemo(8))"
      ]
    },
    {
      "cell_type": "code",
      "execution_count": 44,
      "metadata": {},
      "outputs": [
        {
          "name": "stdout",
          "output_type": "stream",
          "text": [
            "True\n",
            "CPU times: user 207 µs, sys: 82 µs, total: 289 µs\n",
            "Wall time: 269 µs\n"
          ]
        }
      ],
      "source": [
        "%%time\n",
        "print(fac_it(3) == 6)"
      ]
    },
    {
      "cell_type": "code",
      "execution_count": 83,
      "metadata": {},
      "outputs": [
        {
          "name": "stdout",
          "output_type": "stream",
          "text": [
            "2178309\n",
            "CPU times: user 311 µs, sys: 141 µs, total: 452 µs\n",
            "Wall time: 368 µs\n"
          ]
        }
      ],
      "source": [
        "%%time\n",
        "print(fib1(32))"
      ]
    },
    {
      "cell_type": "code",
      "execution_count": 82,
      "metadata": {},
      "outputs": [
        {
          "name": "stdout",
          "output_type": "stream",
          "text": [
            "2178309\n",
            "CPU times: user 990 ms, sys: 7.82 ms, total: 998 ms\n",
            "Wall time: 1 s\n"
          ]
        }
      ],
      "source": [
        "%%time\n",
        "print(fib2(32))"
      ]
    },
    {
      "cell_type": "code",
      "execution_count": 85,
      "metadata": {},
      "outputs": [
        {
          "name": "stdout",
          "output_type": "stream",
          "text": [
            "2178309\n",
            "CPU times: user 298 µs, sys: 140 µs, total: 438 µs\n",
            "Wall time: 456 µs\n"
          ]
        }
      ],
      "source": [
        "%%time\n",
        "print(fib3(32))"
      ]
    },
    {
      "cell_type": "code",
      "execution_count": null,
      "metadata": {
        "id": "3vbOaZNM9W7E"
      },
      "outputs": [],
      "source": [
        "# ↑↑↑↑↑↑↑↑↑↑↑↑↑↑↑↑↑↑↑↑↑↑↑↑↑↑↑↑↑↑↑\n",
        "# your code goes above this"
      ]
    },
    {
      "cell_type": "markdown",
      "metadata": {
        "id": "LfWTIZig9pRU"
      },
      "source": [
        "## Numpy"
      ]
    },
    {
      "cell_type": "code",
      "execution_count": 7,
      "metadata": {
        "id": "WKAlJ8et9w72"
      },
      "outputs": [],
      "source": [
        "import numpy as np"
      ]
    },
    {
      "cell_type": "markdown",
      "metadata": {
        "id": "8Go9iQ_Q-b47"
      },
      "source": [
        "You can read about this dataset [here](https://inria.github.io/scikit-learn-mooc/python_scripts/datasets_california_housing.html).\n",
        "`X` are some features of houses and `y` is the price of the houses in 100k$."
      ]
    },
    {
      "cell_type": "code",
      "execution_count": 8,
      "metadata": {
        "id": "erPAgzVp90JP"
      },
      "outputs": [],
      "source": [
        "from sklearn.datasets import fetch_california_housing\n",
        "\n",
        "california_housing = fetch_california_housing()"
      ]
    },
    {
      "cell_type": "code",
      "execution_count": 9,
      "metadata": {
        "colab": {
          "base_uri": "https://localhost:8080/"
        },
        "id": "WcenRO3A-Kq3",
        "outputId": "15a3c2a4-4819-4c78-e532-75c561b47b2c"
      },
      "outputs": [
        {
          "data": {
            "text/plain": [
              "dict_keys(['data', 'target', 'frame', 'target_names', 'feature_names', 'DESCR'])"
            ]
          },
          "execution_count": 9,
          "metadata": {},
          "output_type": "execute_result"
        }
      ],
      "source": [
        "california_housing.keys()"
      ]
    },
    {
      "cell_type": "code",
      "execution_count": 10,
      "metadata": {
        "id": "74VAntmv91zX"
      },
      "outputs": [],
      "source": [
        "X = california_housing['data']\n",
        "y = california_housing['target']"
      ]
    },
    {
      "cell_type": "markdown",
      "metadata": {
        "id": "eR6VXDET-m_L"
      },
      "source": [
        "### Task 3\n",
        "1) Find out how many instances there are in `X` and `y`. You can use `.shape` or `len`."
      ]
    },
    {
      "cell_type": "code",
      "execution_count": null,
      "metadata": {
        "id": "AkjBc88RAGCf"
      },
      "outputs": [],
      "source": [
        "# your code goes below\n",
        "# ↓↓↓↓↓↓↓↓↓↓↓↓↓↓↓↓↓↓↓↓↓↓↓↓↓↓↓↓↓↓↓"
      ]
    },
    {
      "cell_type": "code",
      "execution_count": 11,
      "metadata": {
        "id": "i06Jed_L_a13"
      },
      "outputs": [
        {
          "name": "stdout",
          "output_type": "stream",
          "text": [
            "20640\n",
            "20640\n"
          ]
        }
      ],
      "source": [
        "print(len(X))\n",
        "print(len(y))"
      ]
    },
    {
      "cell_type": "code",
      "execution_count": 12,
      "metadata": {
        "id": "0NOk7r9T_eOm"
      },
      "outputs": [
        {
          "name": "stdout",
          "output_type": "stream",
          "text": [
            "(20640, 8)\n",
            "(20640,)\n"
          ]
        }
      ],
      "source": [
        "print(X.shape)\n",
        "print(y.shape)"
      ]
    },
    {
      "cell_type": "code",
      "execution_count": null,
      "metadata": {
        "id": "WHikPwgwAN3p"
      },
      "outputs": [],
      "source": [
        "# ↑↑↑↑↑↑↑↑↑↑↑↑↑↑↑↑↑↑↑↑↑↑↑↑↑↑↑↑↑↑↑\n",
        "# your code goes above this"
      ]
    },
    {
      "cell_type": "markdown",
      "metadata": {
        "id": "VGGmAqEw_m7B"
      },
      "source": [
        "2) Make a mask `y_200k_mask` that is `True` whenever the house costs more than or exactly 200k$ and `False` if it costs less."
      ]
    },
    {
      "cell_type": "code",
      "execution_count": null,
      "metadata": {
        "id": "k_BvlnX2AHFI"
      },
      "outputs": [],
      "source": [
        "# your code goes below\n",
        "# ↓↓↓↓↓↓↓↓↓↓↓↓↓↓↓↓↓↓↓↓↓↓↓↓↓↓↓↓↓↓↓"
      ]
    },
    {
      "cell_type": "code",
      "execution_count": 13,
      "metadata": {
        "id": "_TEdKuid-Qqt"
      },
      "outputs": [],
      "source": [
        "y_200k_mask = []\n",
        "for i, price in enumerate(y):\n",
        "    if price>=2:\n",
        "        y_200k_mask.append(True)\n",
        "    else:\n",
        "        y_200k_mask.append(False)\n",
        "# for i in range(10):\n",
        "#     print(y_200k_mask[i], y[i])"
      ]
    },
    {
      "cell_type": "code",
      "execution_count": 32,
      "metadata": {
        "id": "qcEtQWkaAPat"
      },
      "outputs": [],
      "source": [
        "# ↑↑↑↑↑↑↑↑↑↑↑↑↑↑↑↑↑↑↑↑↑↑↑↑↑↑↑↑↑↑↑\n",
        "# your code goes above this"
      ]
    },
    {
      "cell_type": "markdown",
      "metadata": {
        "id": "0sp9VfYJ_FYN"
      },
      "source": [
        "3) Use [`Counter`](https://docs.python.org/3/library/collections.html#collections.Counter) to find out how many houses are woth more than 200k$."
      ]
    },
    {
      "cell_type": "code",
      "execution_count": 14,
      "metadata": {
        "id": "gEombWG1_Q-k"
      },
      "outputs": [],
      "source": [
        "from collections import Counter"
      ]
    },
    {
      "cell_type": "code",
      "execution_count": 29,
      "metadata": {
        "id": "AI6zgZtsAJaM"
      },
      "outputs": [],
      "source": [
        "# your code goes below\n",
        "# ↓↓↓↓↓↓↓↓↓↓↓↓↓↓↓↓↓↓↓↓↓↓↓↓↓↓↓↓↓↓↓"
      ]
    },
    {
      "cell_type": "code",
      "execution_count": 15,
      "metadata": {
        "id": "VItJp-cB_IWL"
      },
      "outputs": [
        {
          "data": {
            "text/plain": [
              "8755"
            ]
          },
          "execution_count": 15,
          "metadata": {},
          "output_type": "execute_result"
        }
      ],
      "source": [
        "events = Counter( y_200k_mask )\n",
        "# Counter returns a dictionary!\n",
        "events.get(True)"
      ]
    },
    {
      "cell_type": "code",
      "execution_count": null,
      "metadata": {
        "id": "-OdXTKT7ARup"
      },
      "outputs": [],
      "source": [
        "# ↑↑↑↑↑↑↑↑↑↑↑↑↑↑↑↑↑↑↑↑↑↑↑↑↑↑↑↑↑↑↑\n",
        "# your code goes above this"
      ]
    },
    {
      "cell_type": "markdown",
      "metadata": {
        "id": "-4cOvIPUAS1P"
      },
      "source": [
        "By calling `arr[mask]` you can extract only those items from a numpy array where `mask` is `True`.    \n",
        "4) Put all `X` where the price is in `X_200k` and the corresponding `y` in `y_200k`."
      ]
    },
    {
      "cell_type": "code",
      "execution_count": null,
      "metadata": {
        "id": "hfrnEEaBG4ha"
      },
      "outputs": [],
      "source": [
        "# your code goes below\n",
        "# ↓↓↓↓↓↓↓↓↓↓↓↓↓↓↓↓↓↓↓↓↓↓↓↓↓↓↓↓↓↓↓"
      ]
    },
    {
      "cell_type": "code",
      "execution_count": 16,
      "metadata": {
        "id": "C3WaMGwPA9fl"
      },
      "outputs": [
        {
          "name": "stdout",
          "output_type": "stream",
          "text": [
            "(8755, 8)\n",
            "(8755,)\n"
          ]
        }
      ],
      "source": [
        "X_200k = X[y_200k_mask] \n",
        "y_200k = y[y_200k_mask]\n",
        "print(X_200k.shape)\n",
        "print(y_200k.shape)"
      ]
    },
    {
      "cell_type": "code",
      "execution_count": null,
      "metadata": {
        "id": "8f0Pm07eG7yz"
      },
      "outputs": [],
      "source": [
        "\n",
        "# ↑↑↑↑↑↑↑↑↑↑↑↑↑↑↑↑↑↑↑↑↑↑↑↑↑↑↑↑↑↑↑\n",
        "# your code goes above this"
      ]
    },
    {
      "cell_type": "markdown",
      "metadata": {
        "id": "ggVKfcDk9l8N"
      },
      "source": [
        "## Pandas Dataframes"
      ]
    },
    {
      "cell_type": "code",
      "execution_count": 26,
      "metadata": {
        "id": "lSJUYS4H9bxS"
      },
      "outputs": [],
      "source": [
        "import pandas as pd\n",
        "from sklearn.datasets import fetch_california_housing\n",
        "\n",
        "california_housing_df = fetch_california_housing(as_frame=True)"
      ]
    },
    {
      "cell_type": "code",
      "execution_count": 27,
      "metadata": {
        "id": "6DJKWUvEBRSg"
      },
      "outputs": [],
      "source": [
        "X_df = california_housing_df['data']\n",
        "y_df = california_housing_df['target']"
      ]
    },
    {
      "cell_type": "markdown",
      "metadata": {
        "id": "XeJ-16nGBb2L"
      },
      "source": [
        "### Task 4\n",
        "1) Get a [description](https://pandas.pydata.org/pandas-docs/stable/reference/api/pandas.DataFrame.describe.html) of the `X_df` and `y_df`.   "
      ]
    },
    {
      "cell_type": "code",
      "execution_count": 28,
      "metadata": {
        "id": "3QXsN552CSDf"
      },
      "outputs": [],
      "source": [
        "# your code goes below\n",
        "# ↓↓↓↓↓↓↓↓↓↓↓↓↓↓↓↓↓↓↓↓↓↓↓↓↓↓↓↓↓↓"
      ]
    },
    {
      "cell_type": "code",
      "execution_count": 31,
      "metadata": {
        "id": "wooB5QpoBSeu"
      },
      "outputs": [
        {
          "data": {
            "text/html": [
              "<div>\n",
              "<style scoped>\n",
              "    .dataframe tbody tr th:only-of-type {\n",
              "        vertical-align: middle;\n",
              "    }\n",
              "\n",
              "    .dataframe tbody tr th {\n",
              "        vertical-align: top;\n",
              "    }\n",
              "\n",
              "    .dataframe thead th {\n",
              "        text-align: right;\n",
              "    }\n",
              "</style>\n",
              "<table border=\"1\" class=\"dataframe\">\n",
              "  <thead>\n",
              "    <tr style=\"text-align: right;\">\n",
              "      <th></th>\n",
              "      <th>MedInc</th>\n",
              "      <th>HouseAge</th>\n",
              "      <th>AveRooms</th>\n",
              "      <th>AveBedrms</th>\n",
              "      <th>Population</th>\n",
              "      <th>AveOccup</th>\n",
              "      <th>Latitude</th>\n",
              "      <th>Longitude</th>\n",
              "    </tr>\n",
              "  </thead>\n",
              "  <tbody>\n",
              "    <tr>\n",
              "      <th>count</th>\n",
              "      <td>20640.000000</td>\n",
              "      <td>20640.000000</td>\n",
              "      <td>20640.000000</td>\n",
              "      <td>20640.000000</td>\n",
              "      <td>20640.000000</td>\n",
              "      <td>20640.000000</td>\n",
              "      <td>20640.000000</td>\n",
              "      <td>20640.000000</td>\n",
              "    </tr>\n",
              "    <tr>\n",
              "      <th>mean</th>\n",
              "      <td>3.870671</td>\n",
              "      <td>28.639486</td>\n",
              "      <td>5.429000</td>\n",
              "      <td>1.096675</td>\n",
              "      <td>1425.476744</td>\n",
              "      <td>3.070655</td>\n",
              "      <td>35.631861</td>\n",
              "      <td>-119.569704</td>\n",
              "    </tr>\n",
              "    <tr>\n",
              "      <th>std</th>\n",
              "      <td>1.899822</td>\n",
              "      <td>12.585558</td>\n",
              "      <td>2.474173</td>\n",
              "      <td>0.473911</td>\n",
              "      <td>1132.462122</td>\n",
              "      <td>10.386050</td>\n",
              "      <td>2.135952</td>\n",
              "      <td>2.003532</td>\n",
              "    </tr>\n",
              "    <tr>\n",
              "      <th>min</th>\n",
              "      <td>0.499900</td>\n",
              "      <td>1.000000</td>\n",
              "      <td>0.846154</td>\n",
              "      <td>0.333333</td>\n",
              "      <td>3.000000</td>\n",
              "      <td>0.692308</td>\n",
              "      <td>32.540000</td>\n",
              "      <td>-124.350000</td>\n",
              "    </tr>\n",
              "    <tr>\n",
              "      <th>25%</th>\n",
              "      <td>2.563400</td>\n",
              "      <td>18.000000</td>\n",
              "      <td>4.440716</td>\n",
              "      <td>1.006079</td>\n",
              "      <td>787.000000</td>\n",
              "      <td>2.429741</td>\n",
              "      <td>33.930000</td>\n",
              "      <td>-121.800000</td>\n",
              "    </tr>\n",
              "    <tr>\n",
              "      <th>50%</th>\n",
              "      <td>3.534800</td>\n",
              "      <td>29.000000</td>\n",
              "      <td>5.229129</td>\n",
              "      <td>1.048780</td>\n",
              "      <td>1166.000000</td>\n",
              "      <td>2.818116</td>\n",
              "      <td>34.260000</td>\n",
              "      <td>-118.490000</td>\n",
              "    </tr>\n",
              "    <tr>\n",
              "      <th>75%</th>\n",
              "      <td>4.743250</td>\n",
              "      <td>37.000000</td>\n",
              "      <td>6.052381</td>\n",
              "      <td>1.099526</td>\n",
              "      <td>1725.000000</td>\n",
              "      <td>3.282261</td>\n",
              "      <td>37.710000</td>\n",
              "      <td>-118.010000</td>\n",
              "    </tr>\n",
              "    <tr>\n",
              "      <th>max</th>\n",
              "      <td>15.000100</td>\n",
              "      <td>52.000000</td>\n",
              "      <td>141.909091</td>\n",
              "      <td>34.066667</td>\n",
              "      <td>35682.000000</td>\n",
              "      <td>1243.333333</td>\n",
              "      <td>41.950000</td>\n",
              "      <td>-114.310000</td>\n",
              "    </tr>\n",
              "  </tbody>\n",
              "</table>\n",
              "</div>"
            ],
            "text/plain": [
              "             MedInc      HouseAge      AveRooms     AveBedrms    Population  \\\n",
              "count  20640.000000  20640.000000  20640.000000  20640.000000  20640.000000   \n",
              "mean       3.870671     28.639486      5.429000      1.096675   1425.476744   \n",
              "std        1.899822     12.585558      2.474173      0.473911   1132.462122   \n",
              "min        0.499900      1.000000      0.846154      0.333333      3.000000   \n",
              "25%        2.563400     18.000000      4.440716      1.006079    787.000000   \n",
              "50%        3.534800     29.000000      5.229129      1.048780   1166.000000   \n",
              "75%        4.743250     37.000000      6.052381      1.099526   1725.000000   \n",
              "max       15.000100     52.000000    141.909091     34.066667  35682.000000   \n",
              "\n",
              "           AveOccup      Latitude     Longitude  \n",
              "count  20640.000000  20640.000000  20640.000000  \n",
              "mean       3.070655     35.631861   -119.569704  \n",
              "std       10.386050      2.135952      2.003532  \n",
              "min        0.692308     32.540000   -124.350000  \n",
              "25%        2.429741     33.930000   -121.800000  \n",
              "50%        2.818116     34.260000   -118.490000  \n",
              "75%        3.282261     37.710000   -118.010000  \n",
              "max     1243.333333     41.950000   -114.310000  "
            ]
          },
          "execution_count": 31,
          "metadata": {},
          "output_type": "execute_result"
        }
      ],
      "source": [
        "X_df.describe()"
      ]
    },
    {
      "cell_type": "code",
      "execution_count": 30,
      "metadata": {
        "id": "I3COgloUBt15"
      },
      "outputs": [
        {
          "data": {
            "text/plain": [
              "count    20640.000000\n",
              "mean         2.068558\n",
              "std          1.153956\n",
              "min          0.149990\n",
              "25%          1.196000\n",
              "50%          1.797000\n",
              "75%          2.647250\n",
              "max          5.000010\n",
              "Name: MedHouseVal, dtype: float64"
            ]
          },
          "execution_count": 30,
          "metadata": {},
          "output_type": "execute_result"
        }
      ],
      "source": [
        "y_df.describe()"
      ]
    },
    {
      "cell_type": "code",
      "execution_count": null,
      "metadata": {
        "id": "3FBjif7WCWGm"
      },
      "outputs": [],
      "source": [
        "# ↑↑↑↑↑↑↑↑↑↑↑↑↑↑↑↑↑↑↑↑↑↑↑↑↑↑↑↑↑↑↑\n",
        "# your code goes above this"
      ]
    },
    {
      "cell_type": "markdown",
      "metadata": {
        "id": "upyDITE_B80k"
      },
      "source": [
        "2) Get all elements of the dataframe where the price is >= 200k$. You don't have to convert anything to numpy arrays."
      ]
    },
    {
      "cell_type": "code",
      "execution_count": null,
      "metadata": {
        "id": "eY7D5xL6CTDc"
      },
      "outputs": [],
      "source": [
        "# your code goes below\n",
        "# ↓↓↓↓↓↓↓↓↓↓↓↓↓↓↓↓↓↓↓↓↓↓↓↓↓↓↓↓↓↓"
      ]
    },
    {
      "cell_type": "code",
      "execution_count": 46,
      "metadata": {
        "id": "IGSvhOJnB1nZ"
      },
      "outputs": [
        {
          "data": {
            "text/html": [
              "<div>\n",
              "<style scoped>\n",
              "    .dataframe tbody tr th:only-of-type {\n",
              "        vertical-align: middle;\n",
              "    }\n",
              "\n",
              "    .dataframe tbody tr th {\n",
              "        vertical-align: top;\n",
              "    }\n",
              "\n",
              "    .dataframe thead th {\n",
              "        text-align: right;\n",
              "    }\n",
              "</style>\n",
              "<table border=\"1\" class=\"dataframe\">\n",
              "  <thead>\n",
              "    <tr style=\"text-align: right;\">\n",
              "      <th></th>\n",
              "      <th>MedInc</th>\n",
              "      <th>HouseAge</th>\n",
              "      <th>AveRooms</th>\n",
              "      <th>AveBedrms</th>\n",
              "      <th>Population</th>\n",
              "      <th>AveOccup</th>\n",
              "      <th>Latitude</th>\n",
              "      <th>Longitude</th>\n",
              "    </tr>\n",
              "  </thead>\n",
              "  <tbody>\n",
              "    <tr>\n",
              "      <th>count</th>\n",
              "      <td>8755.000000</td>\n",
              "      <td>8755.000000</td>\n",
              "      <td>8755.000000</td>\n",
              "      <td>8755.000000</td>\n",
              "      <td>8755.000000</td>\n",
              "      <td>8755.000000</td>\n",
              "      <td>8755.000000</td>\n",
              "      <td>8755.000000</td>\n",
              "    </tr>\n",
              "    <tr>\n",
              "      <th>mean</th>\n",
              "      <td>5.061122</td>\n",
              "      <td>29.796916</td>\n",
              "      <td>5.749302</td>\n",
              "      <td>1.068311</td>\n",
              "      <td>1407.685208</td>\n",
              "      <td>2.781931</td>\n",
              "      <td>35.371807</td>\n",
              "      <td>-119.731367</td>\n",
              "    </tr>\n",
              "    <tr>\n",
              "      <th>std</th>\n",
              "      <td>2.102934</td>\n",
              "      <td>12.945215</td>\n",
              "      <td>2.405328</td>\n",
              "      <td>0.377849</td>\n",
              "      <td>1100.995159</td>\n",
              "      <td>5.922847</td>\n",
              "      <td>1.880193</td>\n",
              "      <td>1.997915</td>\n",
              "    </tr>\n",
              "    <tr>\n",
              "      <th>min</th>\n",
              "      <td>0.499900</td>\n",
              "      <td>2.000000</td>\n",
              "      <td>1.378486</td>\n",
              "      <td>0.333333</td>\n",
              "      <td>3.000000</td>\n",
              "      <td>0.750000</td>\n",
              "      <td>32.560000</td>\n",
              "      <td>-123.810000</td>\n",
              "    </tr>\n",
              "    <tr>\n",
              "      <th>25%</th>\n",
              "      <td>3.638200</td>\n",
              "      <td>19.000000</td>\n",
              "      <td>4.709042</td>\n",
              "      <td>1.002486</td>\n",
              "      <td>784.000000</td>\n",
              "      <td>2.301196</td>\n",
              "      <td>33.890000</td>\n",
              "      <td>-122.020000</td>\n",
              "    </tr>\n",
              "    <tr>\n",
              "      <th>50%</th>\n",
              "      <td>4.737500</td>\n",
              "      <td>30.000000</td>\n",
              "      <td>5.637255</td>\n",
              "      <td>1.041363</td>\n",
              "      <td>1146.000000</td>\n",
              "      <td>2.667456</td>\n",
              "      <td>34.180000</td>\n",
              "      <td>-118.480000</td>\n",
              "    </tr>\n",
              "    <tr>\n",
              "      <th>75%</th>\n",
              "      <td>6.061500</td>\n",
              "      <td>39.000000</td>\n",
              "      <td>6.551852</td>\n",
              "      <td>1.086120</td>\n",
              "      <td>1690.000000</td>\n",
              "      <td>3.023347</td>\n",
              "      <td>37.480000</td>\n",
              "      <td>-118.100000</td>\n",
              "    </tr>\n",
              "    <tr>\n",
              "      <th>max</th>\n",
              "      <td>15.000100</td>\n",
              "      <td>52.000000</td>\n",
              "      <td>141.909091</td>\n",
              "      <td>25.636364</td>\n",
              "      <td>16122.000000</td>\n",
              "      <td>502.461538</td>\n",
              "      <td>40.630000</td>\n",
              "      <td>-114.620000</td>\n",
              "    </tr>\n",
              "  </tbody>\n",
              "</table>\n",
              "</div>"
            ],
            "text/plain": [
              "            MedInc     HouseAge     AveRooms    AveBedrms    Population  \\\n",
              "count  8755.000000  8755.000000  8755.000000  8755.000000   8755.000000   \n",
              "mean      5.061122    29.796916     5.749302     1.068311   1407.685208   \n",
              "std       2.102934    12.945215     2.405328     0.377849   1100.995159   \n",
              "min       0.499900     2.000000     1.378486     0.333333      3.000000   \n",
              "25%       3.638200    19.000000     4.709042     1.002486    784.000000   \n",
              "50%       4.737500    30.000000     5.637255     1.041363   1146.000000   \n",
              "75%       6.061500    39.000000     6.551852     1.086120   1690.000000   \n",
              "max      15.000100    52.000000   141.909091    25.636364  16122.000000   \n",
              "\n",
              "          AveOccup     Latitude    Longitude  \n",
              "count  8755.000000  8755.000000  8755.000000  \n",
              "mean      2.781931    35.371807  -119.731367  \n",
              "std       5.922847     1.880193     1.997915  \n",
              "min       0.750000    32.560000  -123.810000  \n",
              "25%       2.301196    33.890000  -122.020000  \n",
              "50%       2.667456    34.180000  -118.480000  \n",
              "75%       3.023347    37.480000  -118.100000  \n",
              "max     502.461538    40.630000  -114.620000  "
            ]
          },
          "execution_count": 46,
          "metadata": {},
          "output_type": "execute_result"
        }
      ],
      "source": [
        "X_df_200k = X_df[pd.concat([y_df,X_df],axis=1)['MedHouseVal']>=2]\n",
        "X_df_200k.describe()"
      ]
    },
    {
      "cell_type": "code",
      "execution_count": 47,
      "metadata": {},
      "outputs": [
        {
          "data": {
            "text/plain": [
              "count    8755.000000\n",
              "mean        3.141690\n",
              "std         0.947509\n",
              "min         2.000000\n",
              "25%         2.356000\n",
              "50%         2.826000\n",
              "75%         3.689000\n",
              "max         5.000010\n",
              "Name: MedHouseVal, dtype: float64"
            ]
          },
          "execution_count": 47,
          "metadata": {},
          "output_type": "execute_result"
        }
      ],
      "source": [
        "y_df_200k = y_df[y_df>=2]\n",
        "y_df_200k.describe()"
      ]
    },
    {
      "cell_type": "code",
      "execution_count": null,
      "metadata": {
        "id": "xL4QF6VFCFID"
      },
      "outputs": [],
      "source": [
        "# ↑↑↑↑↑↑↑↑↑↑↑↑↑↑↑↑↑↑↑↑↑↑↑↑↑↑↑↑↑↑↑\n",
        "# your code goes above this"
      ]
    },
    {
      "cell_type": "markdown",
      "metadata": {
        "id": "pIjfZCArC2PC"
      },
      "source": [
        "3) Plot the [histogram](https://pandas.pydata.org/pandas-docs/stable/reference/api/pandas.DataFrame.hist.html) of `X_df` and `y_df`."
      ]
    },
    {
      "cell_type": "code",
      "execution_count": null,
      "metadata": {
        "id": "vFbNAd4BHDzH"
      },
      "outputs": [],
      "source": [
        "# your code goes below\n",
        "# ↓↓↓↓↓↓↓↓↓↓↓↓↓↓↓↓↓↓↓↓↓↓↓↓↓↓↓↓↓↓↓"
      ]
    },
    {
      "cell_type": "code",
      "execution_count": 62,
      "metadata": {
        "id": "1DHUQFrWCbo3"
      },
      "outputs": [
        {
          "data": {
            "image/png": "[encoded data removed]",
            "text/plain": [
              "<Figure size 864x864 with 9 Axes>"
            ]
          },
          "metadata": {
            "needs_background": "light"
          },
          "output_type": "display_data"
        }
      ],
      "source": [
        "hist = X_df.hist(bins=100,grid=False,figsize=[12,12])"
      ]
    },
    {
      "cell_type": "code",
      "execution_count": 50,
      "metadata": {},
      "outputs": [
        {
          "data": {
            "image/png": "[encoded data removed]",
            "text/plain": [
              "<Figure size 432x288 with 1 Axes>"
            ]
          },
          "metadata": {
            "needs_background": "light"
          },
          "output_type": "display_data"
        }
      ],
      "source": [
        "hist = y_df.hist(bins=100)"
      ]
    },
    {
      "cell_type": "code",
      "execution_count": 80,
      "metadata": {},
      "outputs": [
        {
          "data": {
            "image/png": "[encoded data removed]",
            "text/plain": [
              "<Figure size 288x288 with 1 Axes>"
            ]
          },
          "metadata": {
            "needs_background": "light"
          },
          "output_type": "display_data"
        },
        {
          "data": {
            "image/png": "[encoded data removed]",
            "text/plain": [
              "<Figure size 288x288 with 1 Axes>"
            ]
          },
          "metadata": {
            "needs_background": "light"
          },
          "output_type": "display_data"
        },
        {
          "data": {
            "text/plain": [
              "<Figure size 432x288 with 0 Axes>"
            ]
          },
          "metadata": {},
          "output_type": "display_data"
        },
        {
          "data": {
            "image/png": "[encoded data removed]",
            "text/plain": [
              "<Figure size 288x288 with 1 Axes>"
            ]
          },
          "metadata": {
            "needs_background": "light"
          },
          "output_type": "display_data"
        },
        {
          "data": {
            "image/png": "[encoded data removed]",
            "text/plain": [
              "<Figure size 288x288 with 1 Axes>"
            ]
          },
          "metadata": {
            "needs_background": "light"
          },
          "output_type": "display_data"
        }
      ],
      "source": [
        "import matplotlib.pyplot as plt\n",
        "plt.figure(1)\n",
        "hist2 = X_df['AveRooms'].plot.hist(bins=50,grid=False,figsize=[4,4], xlim=(0,25))\n",
        "plt.figure(2)\n",
        "hist2 = X_df['Population'].plot.hist(bins=50,grid=False,figsize=[4,4], xlim=(0,1e4),)\n",
        "plt.figure(3)\n",
        "hist = X_df.hist(column = 'HouseAge', bins=50,grid=False,figsize=[4,4])\n",
        "plt.figure(4) \n",
        "hist = X_df.hist(column = 'MedInc', bins=100,grid=False,figsize=[4,4])"
      ]
    },
    {
      "cell_type": "code",
      "execution_count": null,
      "metadata": {
        "id": "fsFgvzX-HFR8"
      },
      "outputs": [],
      "source": [
        "# ↑↑↑↑↑↑↑↑↑↑↑↑↑↑↑↑↑↑↑↑↑↑↑↑↑↑↑↑↑↑↑\n",
        "# your code goes above this"
      ]
    },
    {
      "cell_type": "markdown",
      "metadata": {
        "id": "iaE_V8xMWudm"
      },
      "source": [
        "# Solutions"
      ]
    },
    {
      "cell_type": "code",
      "execution_count": null,
      "metadata": {
        "id": "trJ4TtUyCwpC"
      },
      "outputs": [],
      "source": [
        "def fac_rec(n):\n",
        "  if n == 0:\n",
        "    return 1\n",
        "  elif n == 1:\n",
        "    return 1\n",
        "  else:\n",
        "    return n*fac_rec(n-1)"
      ]
    }
  ],
  "metadata": {
    "colab": {
      "collapsed_sections": [],
      "name": "00_PythonPrimer.ipynb",
      "provenance": []
    },
    "kernelspec": {
      "display_name": "Python 3",
      "name": "python3"
    },
    "language_info": {
      "codemirror_mode": {
        "name": "ipython",
        "version": 3
      },
      "file_extension": ".py",
      "mimetype": "text/x-python",
      "name": "python",
      "nbconvert_exporter": "python",
      "pygments_lexer": "ipython3",
      "version": "3.8.9"
    }
  },
  "nbformat": 4,
  "nbformat_minor": 0
}
